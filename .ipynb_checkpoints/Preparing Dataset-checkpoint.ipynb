{
 "cells": [
  {
   "cell_type": "code",
   "execution_count": 13,
   "metadata": {
    "collapsed": true
   },
   "outputs": [],
   "source": [
    "import numpy as np\n",
    "import cv2\n",
    "import pandas as pd\n",
    "import os\n",
    "import csv\n",
    "from random import shuffle\n",
    "from matplotlib import pyplot as plt\n",
    "%matplotlib inline"
   ]
  },
  {
   "cell_type": "code",
   "execution_count": 14,
   "metadata": {
    "collapsed": false,
    "scrolled": true
   },
   "outputs": [
    {
     "name": "stdout",
     "output_type": "stream",
     "text": [
      "54 Symbols\n",
      "! 1300\n",
      "( 14294\n",
      ") 14355\n",
      "+ 25112\n",
      "- 33997\n",
      "0 6914\n",
      "1 26520\n",
      "2 26141\n",
      "3 10909\n",
      "4 7396\n",
      "5 3545\n",
      "6 3118\n",
      "7 2909\n",
      "8 3068\n",
      "9 3737\n",
      "a 12367\n",
      "alpha 2546\n",
      "b 8651\n",
      "beta 2025\n",
      "c 5802\n",
      "d 4852\n",
      "delta 137\n",
      "div 868\n",
      "e 3003\n",
      "f 3712\n",
      "g 1692\n",
      "gamma 409\n",
      "h 1464\n",
      "i 5140\n",
      "j 1536\n",
      "k 3074\n",
      "l 1017\n",
      "lambda 109\n",
      "m 2476\n",
      "mu 177\n",
      "n 10862\n",
      "o 449\n",
      "p 2680\n",
      "phi 355\n",
      "pi 2332\n",
      "q 1230\n",
      "r 2671\n",
      "s 1413\n",
      "sigma 201\n",
      "sum 2689\n",
      "t 3274\n",
      "theta 2796\n",
      "times 3251\n",
      "u 1269\n",
      "v 1558\n",
      "w 556\n",
      "x 26594\n",
      "y 9340\n",
      "z 5870\n"
     ]
    }
   ],
   "source": [
    "symbols = ['+', 'c', '8', 'l', 't', 'q', '0', 'p',\n",
    " 'times', 'x', 'mu', 'm', 'z',  '-', 'sum', 'g', '5',\n",
    " 'k', 'beta', 'pi', 'alpha', 'phi', 'y', '4', 'delta',\n",
    " 'gamma', 'f', ')', '3', 'j', 'w', '6', 'a', 'h', 'b',\n",
    " 'r', 'i', 'd', 'n', 'theta', '9', 'v', '7', 'sigma',\n",
    " '!', 'o', '2', 's', '(', 'div', 'e', 'lambda', 'u',\n",
    " '1']\n",
    "\n",
    "symbols.sort()\n",
    "print len(symbols), 'Symbols'\n",
    "for sym in symbols:\n",
    "    files = os.listdir('./extracted_images/' + sym)\n",
    "    print sym, len(files)"
   ]
  },
  {
   "cell_type": "code",
   "execution_count": 15,
   "metadata": {
    "collapsed": false
   },
   "outputs": [],
   "source": [
    "dataset_labels = {}\n",
    "cols = ['symbol']\n",
    "dataset_labels['symbol'] = []\n",
    "for ix in range(1024):\n",
    "    dataset_labels['pixel_'+str(ix)] = []\n",
    "    cols.append('pixel_'+str(ix))\n",
    "\n",
    "initial = pd.DataFrame(dataset_labels)\n",
    "initial.to_csv('./symbols.csv', header=True, columns = cols, sep=',', index=False)"
   ]
  },
  {
   "cell_type": "code",
   "execution_count": 18,
   "metadata": {
    "collapsed": false,
    "scrolled": true
   },
   "outputs": [
    {
     "name": "stdout",
     "output_type": "stream",
     "text": [
      "! 1300\n",
      "( 2500\n",
      ") 2500\n",
      "+ 2500\n",
      "- 2500\n",
      "0 2500\n",
      "1 2500\n",
      "2 2500\n",
      "3 2500\n",
      "4 2500\n",
      "5 2500\n",
      "6 2500\n",
      "7 2500\n",
      "8 2500\n",
      "9 2500\n",
      "a 2500\n",
      "alpha 2500\n",
      "b 2500\n",
      "beta 2025\n",
      "c 2500\n",
      "d 2500\n",
      "delta 137\n",
      "div 868\n",
      "e 2500\n",
      "f 2500\n",
      "g 1692\n",
      "gamma 409\n",
      "h 1464\n",
      "i 2500\n",
      "j 1536\n",
      "k 2500\n",
      "l 1017\n",
      "lambda 109\n",
      "m 2476\n",
      "mu 177\n",
      "n 2500\n",
      "o 449\n",
      "p 2500\n",
      "phi 355\n",
      "pi 2332\n",
      "q 1230\n",
      "r 2500\n",
      "s 1413\n",
      "sigma 201\n",
      "sum 2500\n",
      "t 2500\n",
      "theta 2500\n",
      "times 2500\n",
      "u 1269\n",
      "v 1558\n",
      "w 556\n",
      "x 2500\n",
      "y 2500\n",
      "z 2500\n"
     ]
    }
   ],
   "source": [
    "with open('./symbols.csv', 'a') as csvfile:\n",
    "    datawriter = csv.writer(csvfile)\n",
    "    for sym in symbols:\n",
    "        files = os.listdir('./extracted_images/' + sym)\n",
    "        shuffle(files)\n",
    "        files = files[:2500]\n",
    "        print sym, len(files)\n",
    "        for f in files:\n",
    "            image = cv2.imread('./extracted_images/'+sym+'/'+f)\n",
    "            image = cv2.cvtColor(image, cv2.COLOR_BGR2GRAY)\n",
    "            \n",
    "            _, image = cv2.threshold(image, 127, 255, cv2.THRESH_BINARY_INV)\n",
    "            image = cv2.resize(image, (32,32), interpolation = cv2.INTER_CUBIC)\n",
    "            \n",
    "            kernel = np.array([[1, 1], [1, 1]], dtype='uint8')\n",
    "            pro_image = cv2.dilate(image, kernel, iterations = 1)\n",
    "            _, pro_image = cv2.threshold(pro_image, 127, 255, cv2.THRESH_BINARY_INV)\n",
    "            \n",
    "            image = list(image.reshape((1024)))\n",
    "            datawriter.writerow([str(sym)] + image)"
   ]
  },
  {
   "cell_type": "code",
   "execution_count": null,
   "metadata": {
    "collapsed": true
   },
   "outputs": [],
   "source": [
    "df = pd.read_csv('./symbols.csv')"
   ]
  }
 ],
 "metadata": {
  "kernelspec": {
   "display_name": "Python 2",
   "language": "python",
   "name": "python2"
  },
  "language_info": {
   "codemirror_mode": {
    "name": "ipython",
    "version": 2
   },
   "file_extension": ".py",
   "mimetype": "text/x-python",
   "name": "python",
   "nbconvert_exporter": "python",
   "pygments_lexer": "ipython2",
   "version": "2.7.12"
  }
 },
 "nbformat": 4,
 "nbformat_minor": 2
}
